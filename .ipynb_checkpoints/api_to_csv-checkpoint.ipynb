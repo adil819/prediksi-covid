{
 "cells": [
  {
   "cell_type": "code",
   "execution_count": 1,
   "id": "bffb4966",
   "metadata": {},
   "outputs": [],
   "source": [
    "# Mengakses API covid19.go.id\n",
    "import requests\n",
    "import numpy as np\n",
    "import pandas as pd\n",
    "\n",
    "# resp = requests.get('https://data.covid19.go.id/public/api/update.json')\n",
    "# cov_id_raw = resp.json()\n",
    "# cov_id_update = cov_id_raw['update']\n",
    "\n",
    "resp_sumut = requests.get('https://data.covid19.go.id/public/api/prov_detail_SUMATERA_UTARA.json')\n",
    "cov_sumut_raw = resp_sumut.json()\n",
    "\n",
    "cov_sumut = pd.DataFrame(cov_sumut_raw['list_perkembangan'])\n",
    "\n",
    "# Menjinakkan Data\n",
    "cov_sumut_tidy = (cov_sumut.drop(columns=[item for item in cov_sumut.columns\n",
    "if item.startswith('AKUMULASI')\n",
    "or item.startswith('DIRAWAT')])\n",
    ".rename(columns=str.lower)\n",
    ".rename(columns={'kasus': 'kasus_baru'})\n",
    ")\n",
    "cov_sumut_tidy['tanggal'] = pd.to_datetime(cov_sumut_tidy['tanggal']*1e6, unit='ns')\n",
    "\n",
    "dataForCSV = pd.DataFrame(cov_sumut_tidy)\n",
    "dataForCSV = dataForCSV.rename(columns={\"tanggal\":\"Date\"})\n",
    "dataForCSV = dataForCSV.rename(columns={\"kasus_baru\":\"Kasus Baru\"})\n",
    "dataForCSV = dataForCSV.rename(columns={\"meninggal\":\"Meninggal\"})\n",
    "dataForCSV = dataForCSV.rename(columns={\"sembuh\":\"Sembuh\"})\n",
    "dataForCSV['Date'] = dataForCSV['Date'].dt.strftime('%m/%d/%Y')\n",
    "dataForCSV.to_csv('data_covid_sumut.csv', index = False) \n",
    "\n",
    "print(\"data telah terupdate, cek kembali data_covid_sumut.csv\")"
   ]
  }
 ],
 "metadata": {
  "kernelspec": {
   "display_name": "Python 3 (ipykernel)",
   "language": "python",
   "name": "python3"
  },
  "language_info": {
   "codemirror_mode": {
    "name": "ipython",
    "version": 3
   },
   "file_extension": ".py",
   "mimetype": "text/x-python",
   "name": "python",
   "nbconvert_exporter": "python",
   "pygments_lexer": "ipython3",
   "version": "3.10.4"
  }
 },
 "nbformat": 4,
 "nbformat_minor": 5
}
